{
 "cells": [
  {
   "cell_type": "markdown",
   "id": "5d92c911",
   "metadata": {},
   "source": [
    "# Keyword Influence Analysis on Kaggle Dataset Upvotes\n",
    "This notebook analyzes the influence of keywords in dataset names on the number of upvotes."
   ]
  },
  {
   "cell_type": "code",
   "execution_count": 1,
   "id": "d859f95a",
   "metadata": {},
   "outputs": [
    {
     "data": {
      "text/html": [
       "<div>\n",
       "<style scoped>\n",
       "    .dataframe tbody tr th:only-of-type {\n",
       "        vertical-align: middle;\n",
       "    }\n",
       "\n",
       "    .dataframe tbody tr th {\n",
       "        vertical-align: top;\n",
       "    }\n",
       "\n",
       "    .dataframe thead th {\n",
       "        text-align: right;\n",
       "    }\n",
       "</style>\n",
       "<table border=\"1\" class=\"dataframe\">\n",
       "  <thead>\n",
       "    <tr style=\"text-align: right;\">\n",
       "      <th></th>\n",
       "      <th>Unnamed: 0</th>\n",
       "      <th>Dataset_name</th>\n",
       "      <th>Author_name</th>\n",
       "      <th>Author_id</th>\n",
       "      <th>No_of_files</th>\n",
       "      <th>size</th>\n",
       "      <th>Type_of_file</th>\n",
       "      <th>Upvotes</th>\n",
       "      <th>Medals</th>\n",
       "      <th>Usability</th>\n",
       "      <th>Date</th>\n",
       "      <th>Day</th>\n",
       "      <th>Time</th>\n",
       "      <th>Dataset_link</th>\n",
       "    </tr>\n",
       "  </thead>\n",
       "  <tbody>\n",
       "    <tr>\n",
       "      <th>0</th>\n",
       "      <td>0</td>\n",
       "      <td>Hotel Reservations Dataset</td>\n",
       "      <td>Ahsan Raza</td>\n",
       "      <td>https://www.kaggle.com/ahsan81</td>\n",
       "      <td>1</td>\n",
       "      <td>491 kB</td>\n",
       "      <td>CSV</td>\n",
       "      <td>315</td>\n",
       "      <td>Silver</td>\n",
       "      <td>10.0</td>\n",
       "      <td>1/04/2023</td>\n",
       "      <td>Wed</td>\n",
       "      <td>18:20:31</td>\n",
       "      <td>https://www.kaggle.com/datasets/ahsan81/hotel-...</td>\n",
       "    </tr>\n",
       "    <tr>\n",
       "      <th>1</th>\n",
       "      <td>2</td>\n",
       "      <td>Most Subscribed 1000 Youtube Channels</td>\n",
       "      <td>Mrityunjay Pathak</td>\n",
       "      <td>https://www.kaggle.com/themrityunjaypathak</td>\n",
       "      <td>1</td>\n",
       "      <td>29 kB</td>\n",
       "      <td>CSV</td>\n",
       "      <td>76</td>\n",
       "      <td>Bronze</td>\n",
       "      <td>10.0</td>\n",
       "      <td>1/21/2023</td>\n",
       "      <td>Sat</td>\n",
       "      <td>20:12:05</td>\n",
       "      <td>https://www.kaggle.com/datasets/themrityunjayp...</td>\n",
       "    </tr>\n",
       "    <tr>\n",
       "      <th>2</th>\n",
       "      <td>3</td>\n",
       "      <td>Olympics 124 years Dataset(till 2020)</td>\n",
       "      <td>Nitish Sharma01</td>\n",
       "      <td>https://www.kaggle.com/nitishsharma01</td>\n",
       "      <td>3</td>\n",
       "      <td>5 MB</td>\n",
       "      <td>CSV</td>\n",
       "      <td>30</td>\n",
       "      <td>Bronze</td>\n",
       "      <td>10.0</td>\n",
       "      <td>2/01/2023</td>\n",
       "      <td>Wed</td>\n",
       "      <td>14:30:49</td>\n",
       "      <td>https://www.kaggle.com/datasets/nitishsharma01...</td>\n",
       "    </tr>\n",
       "    <tr>\n",
       "      <th>3</th>\n",
       "      <td>4</td>\n",
       "      <td>Medical Student Mental Health</td>\n",
       "      <td>The Devastator</td>\n",
       "      <td>https://www.kaggle.com/thedevastator</td>\n",
       "      <td>2</td>\n",
       "      <td>19 kB</td>\n",
       "      <td>CSV</td>\n",
       "      <td>37</td>\n",
       "      <td>Bronze</td>\n",
       "      <td>10.0</td>\n",
       "      <td>1/25/2023</td>\n",
       "      <td>Wed</td>\n",
       "      <td>06:30:14</td>\n",
       "      <td>https://www.kaggle.com/datasets/thedevastator/...</td>\n",
       "    </tr>\n",
       "    <tr>\n",
       "      <th>4</th>\n",
       "      <td>5</td>\n",
       "      <td>Latest Netflix TV shows and movies</td>\n",
       "      <td>Senapati Rajesh</td>\n",
       "      <td>https://www.kaggle.com/senapatirajesh</td>\n",
       "      <td>1</td>\n",
       "      <td>1 MB</td>\n",
       "      <td>CSV</td>\n",
       "      <td>94</td>\n",
       "      <td>Bronze</td>\n",
       "      <td>9.4</td>\n",
       "      <td>1/14/2023</td>\n",
       "      <td>Sat</td>\n",
       "      <td>22:33:12</td>\n",
       "      <td>https://www.kaggle.com/datasets/senapatirajesh...</td>\n",
       "    </tr>\n",
       "  </tbody>\n",
       "</table>\n",
       "</div>"
      ],
      "text/plain": [
       "   Unnamed: 0                           Dataset_name        Author_name  \\\n",
       "0           0             Hotel Reservations Dataset         Ahsan Raza   \n",
       "1           2  Most Subscribed 1000 Youtube Channels  Mrityunjay Pathak   \n",
       "2           3  Olympics 124 years Dataset(till 2020)    Nitish Sharma01   \n",
       "3           4          Medical Student Mental Health     The Devastator   \n",
       "4           5     Latest Netflix TV shows and movies    Senapati Rajesh   \n",
       "\n",
       "                                    Author_id  No_of_files    size  \\\n",
       "0              https://www.kaggle.com/ahsan81            1  491 kB   \n",
       "1  https://www.kaggle.com/themrityunjaypathak            1   29 kB   \n",
       "2       https://www.kaggle.com/nitishsharma01            3    5 MB   \n",
       "3        https://www.kaggle.com/thedevastator            2   19 kB   \n",
       "4       https://www.kaggle.com/senapatirajesh            1    1 MB   \n",
       "\n",
       "  Type_of_file  Upvotes  Medals  Usability       Date  Day      Time  \\\n",
       "0          CSV      315  Silver       10.0  1/04/2023  Wed  18:20:31   \n",
       "1          CSV       76  Bronze       10.0  1/21/2023  Sat  20:12:05   \n",
       "2          CSV       30  Bronze       10.0  2/01/2023  Wed  14:30:49   \n",
       "3          CSV       37  Bronze       10.0  1/25/2023  Wed  06:30:14   \n",
       "4          CSV       94  Bronze        9.4  1/14/2023  Sat  22:33:12   \n",
       "\n",
       "                                        Dataset_link  \n",
       "0  https://www.kaggle.com/datasets/ahsan81/hotel-...  \n",
       "1  https://www.kaggle.com/datasets/themrityunjayp...  \n",
       "2  https://www.kaggle.com/datasets/nitishsharma01...  \n",
       "3  https://www.kaggle.com/datasets/thedevastator/...  \n",
       "4  https://www.kaggle.com/datasets/senapatirajesh...  "
      ]
     },
     "execution_count": 1,
     "metadata": {},
     "output_type": "execute_result"
    }
   ],
   "source": [
    "import pandas as pd\n",
    "\n",
    "# Load the dataset\n",
    "df = pd.read_csv('kaggle-preprocessed.csv')\n",
    "df.head()"
   ]
  },
  {
   "cell_type": "markdown",
   "id": "ca561caf",
   "metadata": {},
   "source": [
    "## Calculate Median Upvotes\n",
    "Compute the median number of upvotes for all datasets."
   ]
  },
  {
   "cell_type": "code",
   "execution_count": 2,
   "id": "308234ae",
   "metadata": {},
   "outputs": [
    {
     "data": {
      "text/plain": [
       "23.0"
      ]
     },
     "execution_count": 2,
     "metadata": {},
     "output_type": "execute_result"
    }
   ],
   "source": [
    "# Calculate the median number of upvotes\n",
    "median_upvotes = df['Upvotes'].median()\n",
    "median_upvotes"
   ]
  },
  {
   "cell_type": "markdown",
   "id": "1323fd39",
   "metadata": {},
   "source": [
    "## Extract Keywords\n",
    "Break apart each dataset name into individual keywords, converting them to lowercase."
   ]
  },
  {
   "cell_type": "code",
   "execution_count": 3,
   "id": "80d6ee6a",
   "metadata": {},
   "outputs": [
    {
     "data": {
      "text/plain": [
       "530"
      ]
     },
     "execution_count": 3,
     "metadata": {},
     "output_type": "execute_result"
    }
   ],
   "source": [
    "# Extract keywords from dataset names\n",
    "from collections import defaultdict\n",
    "\n",
    "keyword_dict = defaultdict(list)\n",
    "\n",
    "for index, row in df.iterrows():\n",
    "    keywords = row['Dataset_name'].lower().split()\n",
    "    for keyword in keywords:\n",
    "        keyword_dict[keyword].append(row['Upvotes'])\n",
    "\n",
    "# Filter keywords with at least 10 datasets\n",
    "filtered_keywords = {k: v for k, v in keyword_dict.items() if len(v) >= 10}\n",
    "len(filtered_keywords)"
   ]
  },
  {
   "cell_type": "markdown",
   "id": "18869887",
   "metadata": {},
   "source": [
    "## Keyword Analysis\n",
    "For each keyword, calculate the median number of upvotes for datasets containing that keyword."
   ]
  },
  {
   "cell_type": "code",
   "execution_count": 4,
   "id": "ab00aee8",
   "metadata": {},
   "outputs": [
    {
     "data": {
      "text/plain": [
       "[('coronavirus', 4.869565217391305),\n",
       " ('star', 4.043478260869565),\n",
       " ('suicide', 4.0),\n",
       " ('2016', 3.9130434782608696),\n",
       " ('brain', 3.869565217391304),\n",
       " ('shootings', 3.739130434782609),\n",
       " ('mnist', 3.608695652173913),\n",
       " ('legends', 3.5652173913043477),\n",
       " ('expression', 3.0652173913043477),\n",
       " ('women', 3.0434782608695654)]"
      ]
     },
     "execution_count": 4,
     "metadata": {},
     "output_type": "execute_result"
    }
   ],
   "source": [
    "# Calculate median upvotes for each keyword\n",
    "keyword_median_upvotes = {k: pd.Series(v).median() for k, v in filtered_keywords.items()}\n",
    "\n",
    "# Compute the ratio of keyword median upvotes to overall median upvotes\n",
    "keyword_ratios = {k: v / median_upvotes for k, v in keyword_median_upvotes.items()}\n",
    "\n",
    "# Rank keywords by ratio in descending order\n",
    "sorted_keywords = sorted(keyword_ratios.items(), key=lambda item: item[1], reverse=True)\n",
    "\n",
    "# Display top 10 keywords\n",
    "top_10_keywords = sorted_keywords[:10]\n",
    "top_10_keywords"
   ]
  }
 ],
 "metadata": {
  "kernelspec": {
   "display_name": "Python 3 (ipykernel)",
   "language": "python",
   "name": "python3"
  },
  "language_info": {
   "codemirror_mode": {
    "name": "ipython",
    "version": 3
   },
   "file_extension": ".py",
   "mimetype": "text/x-python",
   "name": "python",
   "nbconvert_exporter": "python",
   "pygments_lexer": "ipython3",
   "version": "3.9.13"
  }
 },
 "nbformat": 4,
 "nbformat_minor": 5
}
