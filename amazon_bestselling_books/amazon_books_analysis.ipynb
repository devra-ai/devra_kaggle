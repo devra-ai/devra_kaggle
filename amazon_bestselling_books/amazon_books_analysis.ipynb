{
 "cells": [
  {
   "cell_type": "markdown",
   "id": "933753df",
   "metadata": {},
   "source": [
    "# Amazon Bestselling Books Analysis\n",
    "\n",
    "In this analysis, we aim to find keywords in book titles that tend to increase ratings."
   ]
  },
  {
   "cell_type": "code",
   "execution_count": 1,
   "id": "219cb2a4",
   "metadata": {},
   "outputs": [
    {
     "ename": "ModuleNotFoundError",
     "evalue": "No module named 'wordcloud'",
     "output_type": "error",
     "traceback": [
      "\u001b[0;31m---------------------------------------------------------------------------\u001b[0m",
      "\u001b[0;31mModuleNotFoundError\u001b[0m                       Traceback (most recent call last)",
      "Cell \u001b[0;32mIn[1], line 10\u001b[0m\n\u001b[1;32m      8\u001b[0m \u001b[38;5;28;01mimport\u001b[39;00m \u001b[38;5;21;01mseaborn\u001b[39;00m \u001b[38;5;28;01mas\u001b[39;00m \u001b[38;5;21;01msns\u001b[39;00m\n\u001b[1;32m      9\u001b[0m \u001b[38;5;28;01mimport\u001b[39;00m \u001b[38;5;21;01mre\u001b[39;00m\n\u001b[0;32m---> 10\u001b[0m \u001b[38;5;28;01mfrom\u001b[39;00m \u001b[38;5;21;01mwordcloud\u001b[39;00m \u001b[38;5;28;01mimport\u001b[39;00m WordCloud\n",
      "\u001b[0;31mModuleNotFoundError\u001b[0m: No module named 'wordcloud'"
     ]
    }
   ],
   "source": [
    "# Import necessary libraries\n",
    "import pandas as pd\n",
    "import numpy as np\n",
    "import matplotlib.pyplot as plt\n",
    "from sklearn.feature_extraction.text import CountVectorizer\n",
    "from sklearn.model_selection import train_test_split\n",
    "from sklearn.linear_model import LinearRegression\n",
    "import seaborn as sns\n",
    "import re\n",
    "from wordcloud import WordCloud"
   ]
  },
  {
   "cell_type": "code",
   "execution_count": null,
   "id": "9854f901",
   "metadata": {},
   "outputs": [],
   "source": [
    "# Load the dataset\n",
    "file_path = 'BestSeller Books of Amazon.csv'\n",
    "df = pd.read_csv(file_path)\n",
    "df.head()"
   ]
  },
  {
   "cell_type": "markdown",
   "id": "1625661b",
   "metadata": {},
   "source": [
    "## Data Preprocessing\n",
    "Clean the data by removing special characters and converting ratings and prices to numerical values."
   ]
  },
  {
   "cell_type": "code",
   "execution_count": null,
   "id": "8996f9ca",
   "metadata": {},
   "outputs": [],
   "source": [
    "# Remove special characters from 'Price' and convert to numerical\n",
    "df['Price'] = df['Price'].replace('[₹,]', '', regex=True).astype(float)\n",
    "# Convert 'Rating' to numerical\n",
    "df['Rating'] = df['Rating'].astype(float)\n",
    "# Display the cleaned data\n",
    "df.head()"
   ]
  },
  {
   "cell_type": "markdown",
   "id": "71a37778",
   "metadata": {},
   "source": [
    "## Text Analysis\n",
    "Tokenize the book titles and perform text analysis to extract keywords."
   ]
  },
  {
   "cell_type": "code",
   "execution_count": null,
   "id": "150775e1",
   "metadata": {},
   "outputs": [],
   "source": [
    "# Function to clean and tokenize book titles\n",
    "def clean_text(text):\n",
    "    text = re.sub(r'[^a-zA-Z\\s]', '', text, re.I|re.A)\n",
    "    text = text.lower()\n",
    "    text = text.strip()\n",
    "    tokens = text.split()\n",
    "    return tokens\n",
    "\n",
    "# Apply the function to the 'Book Name' column\n",
    "df['tokens'] = df['Book Name'].apply(clean_text)\n",
    "# Display the tokenized data\n",
    "df.head()"
   ]
  },
  {
   "cell_type": "markdown",
   "id": "e6faab75",
   "metadata": {},
   "source": [
    "## Correlation Analysis\n",
    "Analyze the correlation between the presence of certain keywords in book titles and the ratings."
   ]
  },
  {
   "cell_type": "code",
   "execution_count": null,
   "id": "0a1cc230",
   "metadata": {},
   "outputs": [],
   "source": [
    "# Create a bag of words model\n",
    "vectorizer = CountVectorizer(tokenizer=clean_text)\n",
    "X = vectorizer.fit_transform(df['Book Name'])\n",
    "# Convert to DataFrame\n",
    "X_df = pd.DataFrame(X.toarray(), columns=vectorizer.get_feature_names_out())\n",
    "# Add the ratings to the DataFrame\n",
    "X_df['Rating'] = df['Rating']\n",
    "# Calculate the correlation matrix\n",
    "correlation_matrix = X_df.corr()\n",
    "# Display the correlation matrix\n",
    "correlation_matrix['Rating'].sort_values(ascending=False)"
   ]
  },
  {
   "cell_type": "markdown",
   "id": "3e50b250",
   "metadata": {},
   "source": [
    "## Visualization\n",
    "Create visualizations to present the findings."
   ]
  },
  {
   "cell_type": "code",
   "execution_count": null,
   "id": "0831ba35",
   "metadata": {},
   "outputs": [],
   "source": [
    "# Generate a word cloud of the most correlated words\n",
    "wordcloud = WordCloud(width=800, height=400, background_color='white').generate_from_frequencies(correlation_matrix['Rating'].dropna().to_dict())\n",
    "# Display the word cloud\n",
    "plt.figure(figsize=(10, 5))\n",
    "plt.imshow(wordcloud, interpolation='bilinear')\n",
    "plt.axis('off')\n",
    "plt.show()"
   ]
  }
 ],
 "metadata": {
  "kernelspec": {
   "display_name": "Python 3 (ipykernel)",
   "language": "python",
   "name": "python3"
  },
  "language_info": {
   "codemirror_mode": {
    "name": "ipython",
    "version": 3
   },
   "file_extension": ".py",
   "mimetype": "text/x-python",
   "name": "python",
   "nbconvert_exporter": "python",
   "pygments_lexer": "ipython3",
   "version": "3.9.13"
  }
 },
 "nbformat": 4,
 "nbformat_minor": 5
}
